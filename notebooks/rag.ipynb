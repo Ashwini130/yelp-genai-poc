{
 "nbformat": 4,
 "nbformat_minor": 0,
 "metadata": {
  "colab": {
   "provenance": []
  },
  "kernelspec": {
   "name": "python3",
   "display_name": "Python 3"
  },
  "language_info": {
   "name": "python"
  }
 },
 "cells": [
  {
   "cell_type": "code",
   "source": [
    "import pandas as pd\n",
    "import numpy as np\n",
    "from sentence_transformers import SentenceTransformer\n",
    "import faiss\n",
    "import os\n",
    "import pickle\n",
    "from tqdm import tqdm\n",
    "\n"
   ],
   "metadata": {
    "id": "fHYMvdp0lCpS",
    "ExecuteTime": {
     "end_time": "2025-10-05T19:23:46.936360Z",
     "start_time": "2025-10-05T19:23:15.072947Z"
    }
   },
   "outputs": [
    {
     "name": "stderr",
     "output_type": "stream",
     "text": [
      "D:\\pycharm\\yelp-genai-poc\\.venv\\lib\\site-packages\\tqdm\\auto.py:21: TqdmWarning: IProgress not found. Please update jupyter and ipywidgets. See https://ipywidgets.readthedocs.io/en/stable/user_install.html\n",
      "  from .autonotebook import tqdm as notebook_tqdm\n"
     ]
    }
   ],
   "execution_count": 1
  },
  {
   "cell_type": "code",
   "source": [
    "# -------------------------------\n",
    "# 1. Load embedding model\n",
    "# -------------------------------\n",
    "model = SentenceTransformer(\"all-MiniLM-L6-v2\")\n",
    "\n",
    "# -------------------------------\n",
    "# 2. FAISS helper functions\n",
    "# -------------------------------\n",
    "def create_faiss_index(dim):\n",
    "    \"\"\"Create a FAISS L2 index for embeddings\"\"\"\n",
    "    return faiss.IndexFlatL2(dim)\n",
    "\n",
    "def save_faiss_index(index, path):\n",
    "    faiss.write_index(index, path)\n",
    "\n",
    "def load_faiss_index(path):\n",
    "    return faiss.read_index(path)\n",
    "\n",
    "def save_texts(texts, path):\n",
    "    with open(path, \"wb\") as f:\n",
    "        pickle.dump(texts, f)\n",
    "\n",
    "def load_texts(path):\n",
    "    with open(path, \"rb\") as f:\n",
    "        return pickle.load(f)\n",
    "\n"
   ],
   "metadata": {
    "id": "vv4A_ag4piTj",
    "ExecuteTime": {
     "end_time": "2025-10-05T19:24:20.557949Z",
     "start_time": "2025-10-05T19:24:08.238796Z"
    }
   },
   "outputs": [],
   "execution_count": 2
  },
  {
   "cell_type": "code",
   "source": [
    "def build_faiss_from_csv(csv_path, index_path=\"reviews.index\", texts_path=\"texts.pkl\", max_reviews=10000, batch_size=64):\n",
    "    \"\"\"\n",
    "    Reads Yelp reviews from CSV (limited to max_reviews), embeds them, and builds a FAISS index.\n",
    "    \"\"\"\n",
    "    df = pd.read_csv(csv_path, quotechar='\"',escapechar='\\\\', on_bad_lines=\"skip\",engine='python').head(max_reviews)  # <-- limit to first 10k\n",
    "    print(f\"📄 Loaded {len(df)} reviews for embedding.\")\n",
    "\n",
    "    # Combine business + stars + text for embeddings\n",
    "    df[\"embedding_text\"] = (\n",
    "        \"Business: \" + df[\"business_name\"].astype(str) +\n",
    "        \". Stars: \" + df[\"stars\"].astype(str) +\n",
    "        \". Review: \" + df[\"cleaned_text\"].astype(str)\n",
    "    )\n",
    "\n",
    "    texts_batch = df[\"embedding_text\"].tolist()\n",
    "    vectors = []\n",
    "    texts = []\n",
    "\n",
    "    # Encode in batches\n",
    "    for i in tqdm(range(0, len(texts_batch), batch_size)):\n",
    "        batch = texts_batch[i:i+batch_size]\n",
    "        emb = model.encode(batch, batch_size=len(batch), show_progress_bar=False, convert_to_numpy=True)\n",
    "        vectors.append(emb)\n",
    "        texts.extend(batch)\n",
    "\n",
    "    vectors = np.vstack(vectors).astype(\"float32\")\n",
    "\n",
    "    # Build FAISS index\n",
    "    index = create_faiss_index(vectors.shape[1])\n",
    "    index.add(vectors)\n",
    "\n",
    "    # Save index and texts\n",
    "    save_faiss_index(index, index_path)\n",
    "    save_texts(texts, texts_path)\n",
    "    print(f\"✅ FAISS index built and saved at {index_path} with {len(texts)} reviews.\")\n",
    "\n",
    "    return index, texts\n",
    "\n",
    "# -------------------------------\n",
    "# 4. Query the index\n",
    "# -------------------------------\n",
    "def query_index(query, index, texts, top_k=5):\n",
    "    query_vec = model.encode([query], convert_to_numpy=True).astype(\"float32\")\n",
    "    D, I = index.search(query_vec, top_k)\n",
    "    results = [(texts[i], float(D[0][j])) for j, i in enumerate(I[0])]\n",
    "    return results\n",
    "\n",
    "# -------------------------------\n",
    "# 5. Run the pipeline\n",
    "# -------------------------------\n",
    "if __name__ == \"__main__\":\n",
    "    CSV_PATH = \"D:/pycharm/yelp-genai-poc/data/processed/final_reviews_normalised.csv\"\n",
    "    INDEX_PATH = \"reviews.index\"\n",
    "    TEXTS_PATH = \"texts.pkl\"\n",
    "\n",
    "    if os.path.exists(INDEX_PATH) and os.path.exists(TEXTS_PATH):\n",
    "        print(\"🔄 Loading existing FAISS index and texts...\")\n",
    "        index = load_faiss_index(INDEX_PATH)\n",
    "        texts = load_texts(TEXTS_PATH)\n",
    "    else:\n",
    "        index, texts = build_faiss_from_csv(CSV_PATH, INDEX_PATH, TEXTS_PATH, max_reviews=2000)\n",
    "\n",
    "    # Example query\n",
    "    query = \"bad customer service\"\n",
    "    results = query_index(query, index, texts, top_k=3)\n",
    "\n",
    "    print(\"\\n🔍 Query Results:\")\n",
    "    for text, dist in results:\n",
    "        print(f\"- ({dist:.4f}) {text[:200]}...\")"
   ],
   "metadata": {
    "colab": {
     "base_uri": "https://localhost:8080/"
    },
    "id": "8qW47WIHwmks",
    "outputId": "6f77b514-5919-4826-bbad-501887b5aaff",
    "ExecuteTime": {
     "end_time": "2025-10-05T19:26:48.778791Z",
     "start_time": "2025-10-05T19:25:30.662240Z"
    }
   },
   "outputs": [
    {
     "name": "stdout",
     "output_type": "stream",
     "text": [
      "📄 Loaded 2000 reviews for embedding.\n"
     ]
    },
    {
     "name": "stderr",
     "output_type": "stream",
     "text": [
      "100%|██████████| 32/32 [01:12<00:00,  2.26s/it]\n"
     ]
    },
    {
     "name": "stdout",
     "output_type": "stream",
     "text": [
      "✅ FAISS index built and saved at reviews.index with 2000 reviews.\n",
      "\n",
      "🔍 Query Results:\n",
      "- (0.8401) Business: Los Agaves. Stars: 1.0. Review: I'd like to share multiple occasion issues. I'm very  unsatisfied customer, I consider myself customer because I do love the food but customer service i have ...\n",
      "- (1.0304) Business: Till Five Pizza. Stars: 1.0. Review: Absolutely HORRIBLE. Worst place ever. The service is terrible. I placed an order for delivery and it never got delivered (and this was two hours later.....\n",
      "- (1.0468) Business: Costco. Stars: 5.0. Review: Came to Costco to pick up an order I placed online. The employees handling the pick ups were extremely busy but the lines didn't seem too long. There was a rather...\n"
     ]
    }
   ],
   "execution_count": 5
  },
  {
   "metadata": {
    "ExecuteTime": {
     "end_time": "2025-10-05T19:28:52.999669Z",
     "start_time": "2025-10-05T19:28:52.949585Z"
    }
   },
   "cell_type": "code",
   "source": [
    "query = \"top restaurants for food quality\"\n",
    "results = query_index(query, index, texts, top_k=3)\n",
    "print(\"\\n🔍 Query Results:\")\n",
    "for text, dist in results:\n",
    "    print(f\"- ({dist:.4f}) {text[:200]}...\")"
   ],
   "outputs": [
    {
     "name": "stdout",
     "output_type": "stream",
     "text": [
      "\n",
      "🔍 Query Results:\n",
      "- (0.7154) Business: Chive Cafe. Stars: 5.0. Review: Simply great place.  Tried it for 3 times and never disappointed.  People who run it they really care very consistent quality and tasty foods.  The only thing...\n",
      "- (0.7595) Business: Stonehouse Restaurant. Stars: 5.0. Review: I recently had lunch with my fiancé at Stonehouse, and our waiter Crispin went above and beyond to make this a memorable experience. His food recom...\n",
      "- (0.7775) Business: Alessia Patisserie & Cafe. Stars: 5.0. Review: There are not enough words to describe how amazing this place is. The food, pastries, ambiance and customer service are simply superb. I don't ...\n"
     ]
    }
   ],
   "execution_count": 6
  },
  {
   "cell_type": "code",
   "source": "",
   "metadata": {
    "id": "tSaisy2cxsE5"
   },
   "execution_count": null,
   "outputs": []
  }
 ]
}
